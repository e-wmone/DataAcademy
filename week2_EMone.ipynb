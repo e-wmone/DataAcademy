{
 "metadata": {
  "language_info": {
   "codemirror_mode": {
    "name": "ipython",
    "version": 3
   },
   "file_extension": ".py",
   "mimetype": "text/x-python",
   "name": "python",
   "nbconvert_exporter": "python",
   "pygments_lexer": "ipython3",
   "version": "3.9.4"
  },
  "orig_nbformat": 2,
  "kernelspec": {
   "name": "python394jvsc74a57bd0aee8b7b246df8f9039afb4144a1f6fd8d2ca17a180786b69acc140d282b71a49",
   "display_name": "Python 3.9.4 64-bit"
  },
  "metadata": {
   "interpreter": {
    "hash": "aee8b7b246df8f9039afb4144a1f6fd8d2ca17a180786b69acc140d282b71a49"
   }
  }
 },
 "nbformat": 4,
 "nbformat_minor": 2,
 "cells": [
  {
   "cell_type": "code",
   "execution_count": null,
   "metadata": {},
   "outputs": [],
   "source": [
    "#TASK1\n",
    "#import libraries for clock\n",
    "import datetime\n",
    "import time\n",
    "\n",
    "#ask user to set the alarm time\n",
    "set_alarm_time = input(\"Set the alarm time in 'HH:MM:SS AM/PM 12h' format: \")\n",
    "\n",
    "#store each value into different variables for the alarm time\n",
    "hour= set_alarm_time[0:2]\n",
    "minute= set_alarm_time[3:5]\n",
    "second= set_alarm_time[6:8]\n",
    "\n",
    "#current time\n",
    "now= datetime.datetime.now()\n",
    "    \n",
    "#store each value of the curren time into different variables\n",
    "current_hour = now.strftime(\"%I\")\n",
    "current_min = now.strftime(\"%M\")\n",
    "current_sec = now.strftime(\"%S\")\n",
    "\n",
    "#function that checks if the current time matches the alarm time set by user\n",
    "def alarm(set_alarm_time):\n",
    "        if hour == current_hour:\n",
    "            if minute == current_min:\n",
    "                    #if second == current_sec:\n",
    "                print(\"Ring Ring )))\")\n",
    "        else: \n",
    "            print(\"Snooze for 10mins\")\n",
    "            \n",
    "\n",
    "alarm(set_alarm_time)\n"
   ]
  },
  {
   "cell_type": "code",
   "execution_count": null,
   "metadata": {},
   "outputs": [],
   "source": []
  },
  {
   "cell_type": "code",
   "execution_count": null,
   "metadata": {},
   "outputs": [],
   "source": [
    "\n",
    "#TASK2\n",
    "def final_price(originalPrice,costDecrease):\n",
    "    while originalPrice > 999:\n",
    "        originalPrice = originalPrice - costDecrease\n",
    "        print(\"£\", originalPrice)\n",
    "        #originalPrice = originalPrice - costDecrease\n",
    "    return originalPrice"
   ]
  },
  {
   "cell_type": "code",
   "execution_count": null,
   "metadata": {},
   "outputs": [],
   "source": [
    "\n",
    "originalPrice= 2000\n",
    "#work out 10% of the original cost\n",
    "costDecrease= (originalPrice*10)/100 "
   ]
  },
  {
   "cell_type": "code",
   "execution_count": null,
   "metadata": {
    "tags": []
   },
   "outputs": [],
   "source": [
    "final_price(originalPrice, costDecrease)\n"
   ]
  },
  {
   "cell_type": "code",
   "execution_count": null,
   "metadata": {},
   "outputs": [],
   "source": [
    "#TASK3\n",
    "\n",
    "def add(inp_no1,inp_no2):\n",
    "    total= inp_no1 +inp_no2\n",
    "    return total\n",
    "\n",
    "def subtract(inp_no1, inp_no2):\n",
    "    total= no1 - no2\n",
    "    return total\n",
    "\n",
    "def multiply(inp_no1,inp_no2):\n",
    "    total= no1 * no2\n",
    "    return total\n",
    "\n",
    "def divide(inp_no1,inp_no2):\n",
    "    total= no1 / no2\n",
    "    return total\n",
    "\n",
    "def square(inp_no1,inp_no2):\n",
    "    total= no1 ** no2\n",
    "    return total\n"
   ]
  },
  {
   "cell_type": "code",
   "execution_count": null,
   "metadata": {},
   "outputs": [],
   "source": [
    "no1= (input(\"Please enter a number\"))\n",
    "no2= (input(\"Please enter a second number\"))\n",
    "\n",
    "#select a calculation\n",
    "print(\"Please select an operator\\n\"\n",
    "    \"1. add \\n\"\n",
    "    \"2. subtract \\n\"\n",
    "    \"3. multiply \\n\"\n",
    "    \"4. divide \\n\"\n",
    "    \"5. square \\n\")\n",
    "selection= int(input(\"Enter selection 1, 2, 3, 4 or 5: \"))\n",
    "\n",
    "if selection == 1:\n",
    "    add(no1, no2)\n",
    "    #print(no1, \" + \" ,no2, \" = \", (no1+no2))\n",
    "elif selection == 2:\n",
    "    subtract(inp_no1, inp_no2)\n",
    "    #print(no1, \" - \" ,no2, \" = \", (no1-no2))\n",
    "elif selection == 3:\n",
    "    multiply(inp_no1,inp_no2)\n",
    "    #print(no1, \" * \" ,no2, \" = \", (no1*no2))\n",
    "elif selection == 4:\n",
    "    divide(inp_no1,inp_no2)\n",
    "    #print(no1, \" / \" ,no2, \" = \", (no1/no2))\n",
    "elif selection == 5:\n",
    "    square(inp_no1,inp_no2)\n",
    "    #print(no1, \" ^2 \" ,no2, \" = \", (no1**no2))\n",
    "else:\n",
    "    print(\"Invalid input\")"
   ]
  },
  {
   "cell_type": "code",
   "execution_count": null,
   "metadata": {},
   "outputs": [],
   "source": []
  }
 ]
}