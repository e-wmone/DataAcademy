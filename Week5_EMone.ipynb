{
 "cells": [
  {
   "cell_type": "code",
   "execution_count": null,
   "metadata": {},
   "outputs": [],
   "source": [
    "#import pandas\n",
    "import pandas as pd\n",
    "import numpy as np\n",
    "\n",
    "##read the csv file using pd.read_csv\n",
    "holiday_file = pd.read_csv(\"holiday.csv\")\n",
    "\n",
    "print(len(holiday_file))\n",
    "print(len(holiday_file.columns))\n",
    "\n",
    "print(holiday_file.iloc[3:8])\n",
    "\n"
   ]
  },
  {
   "cell_type": "code",
   "execution_count": null,
   "metadata": {},
   "outputs": [],
   "source": [
    "#mean of all inclusive hotels\n",
    "\n",
    "al_mean= holiday_file['No_of_all_inclusive'].mean()\n",
    "print(al_mean)"
   ]
  },
  {
   "cell_type": "code",
   "execution_count": null,
   "metadata": {},
   "outputs": [],
   "source": [
    "#lowest scoring destination\n",
    "\n",
    "#df = pd.DataFrame(holiday_file)\n",
    " \n",
    "\n",
    "lowest_scoring= holiday_file['Feedback_Score'].min() \n",
    "\n",
    "print(lowest_scoring)\n"
   ]
  },
  {
   "cell_type": "code",
   "execution_count": null,
   "metadata": {},
   "outputs": [],
   "source": [
    "highest_value= holiday_file['Feedback_Score'].max()\n",
    "print(highest_value)"
   ]
  },
  {
   "cell_type": "code",
   "execution_count": null,
   "metadata": {},
   "outputs": [],
   "source": [
    "#print(holiday_file.columns.tolist())\n"
   ]
  },
  {
   "cell_type": "code",
   "execution_count": 50,
   "metadata": {},
   "outputs": [
    {
     "name": "stdout",
     "output_type": "stream",
     "text": [
      "0     True\n",
      "1     True\n",
      "2     True\n",
      "3     True\n",
      "4     True\n",
      "5     True\n",
      "6     True\n",
      "7     True\n",
      "8     True\n",
      "9     True\n",
      "10    True\n",
      "11    True\n",
      "12    True\n",
      "13    True\n",
      "Name: No_of_all_inclusive, dtype: bool\n"
     ]
    }
   ],
   "source": [
    "#destination with more than 9 all inclusive hotels\n",
    "#all_inc= [holiday_file['No_of_all_inclusive'] >= 9] & (holiday_file.iloc[:,1:2])\n",
    "all_inc= holiday_file['No_of_all_inclusive'] >= 9\n",
    "\n",
    "print(all_inc)"
   ]
  },
  {
   "cell_type": "code",
   "execution_count": 49,
   "metadata": {},
   "outputs": [
    {
     "name": "stdout",
     "output_type": "stream",
     "text": [
      "  Destination  Feedback_Score  Hotel_Star_Rating  No_of_all_inclusive  \\\n",
      "5      Brazil               8                  5                  300   \n",
      "9     Nigeria               9                  4                  500   \n",
      "\n",
      "  Most_visited_City  \n",
      "5          Brasilia  \n",
      "9             Lagos  \n"
     ]
    }
   ],
   "source": [
    "#destination with score above 8\n",
    "high_score= holiday_file[holiday_file['Feedback_Score'] >= 8]\n",
    "print(high_score)"
   ]
  },
  {
   "cell_type": "code",
   "execution_count": null,
   "metadata": {},
   "outputs": [],
   "source": [
    "low_score= holiday_file[holiday_file['Feedback_Score'] <= 2]\n",
    "print(low_score)"
   ]
  },
  {
   "cell_type": "code",
   "execution_count": null,
   "metadata": {},
   "outputs": [],
   "source": []
  }
 ],
 "metadata": {
  "kernelspec": {
   "display_name": "Python 3.9.4 64-bit",
   "name": "python394jvsc74a57bd0aee8b7b246df8f9039afb4144a1f6fd8d2ca17a180786b69acc140d282b71a49"
  },
  "language_info": {
   "codemirror_mode": {
    "name": "ipython",
    "version": 3
   },
   "file_extension": ".py",
   "mimetype": "text/x-python",
   "name": "python",
   "nbconvert_exporter": "python",
   "pygments_lexer": "ipython3",
   "version": "3.9.4"
  },
  "metadata": {
   "interpreter": {
    "hash": "aee8b7b246df8f9039afb4144a1f6fd8d2ca17a180786b69acc140d282b71a49"
   }
  },
  "orig_nbformat": 2
 },
 "nbformat": 4,
 "nbformat_minor": 2
}