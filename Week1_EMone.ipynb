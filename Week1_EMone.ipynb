{
 "metadata": {
  "language_info": {
   "codemirror_mode": {
    "name": "ipython",
    "version": 3
   },
   "file_extension": ".py",
   "mimetype": "text/x-python",
   "name": "python",
   "nbconvert_exporter": "python",
   "pygments_lexer": "ipython3",
   "version": "3.9.4"
  },
  "orig_nbformat": 2,
  "kernelspec": {
   "name": "python394jvsc74a57bd07812ea015bdcee6f23a998adcdd2ef97c151c0c241b7b7070987d9313e41299d",
   "display_name": "Python 3.9.4 64-bit"
  },
  "metadata": {
   "interpreter": {
    "hash": "7812ea015bdcee6f23a998adcdd2ef97c151c0c241b7b7070987d9313e41299d"
   }
  }
 },
 "nbformat": 4,
 "nbformat_minor": 2,
 "cells": [
  {
   "cell_type": "code",
   "execution_count": null,
   "metadata": {},
   "outputs": [],
   "source": [
    "#TASK1\n",
    "#ask the user for their name \n",
    "userName= input(\"Please enter your name here...\")\n",
    "print(\"Hello, \", userName,\"! Please enter a guess between 1 and 10\")\n",
    "\n",
    "#ask the user to guess a number betwwen 1-10\n",
    "import random\n",
    "correctAnswer= random.randint(1,10)\n",
    "guess = int(input(\"Enter your guess here...\"))\n",
    "\n",
    "# tell the user if their guess is correct\n",
    "if guess == correctAnswer:\n",
    "    print(\"Your guess is correct :D\")\n",
    "else:\n",
    "    print(\"Incorrect! Please try again. :(\")"
   ]
  },
  {
   "cell_type": "code",
   "execution_count": null,
   "metadata": {},
   "outputs": [],
   "source": [
    "#TASK2\n",
    "# ask the user for their name and favourite number\n",
    "userName= input(\"Please enter your name here...\")\n",
    "print(\"Hello \", userName)\n",
    "#a_list= list(int((range(1,100))\n",
    "favNumber= int(input(\"Please enter your favourite number between 1 and 100 to see a joke\"))\n",
    "\n",
    "#print a joke \n",
    "if favNumber == 10 or favNumber == 7 or favNumber == 8 or favNumber == 9:\n",
    "    print(\"Why is ten afraid of nine? 9,8,7! :D\")\n",
    "elif favNumber == 3 or favNumber == 4 or favNumber == 5 or favNumber == 6:\n",
    "    print(\"4,6,8,9 have been killed. 2,3,5,7 are the prime suspects :D\")\n",
    "elif favNumber == 1 or favNumber == 2:\n",
    "    print(\"one and two fell in love then two said you're the only one for me :D\")\n",
    "else:\n",
    "    print(\"great, nice to know.\")\n",
    "\n"
   ]
  },
  {
   "cell_type": "code",
   "execution_count": null,
   "metadata": {},
   "outputs": [],
   "source": [
    "#TAsk4\n",
    "#ask to enter each meal and drink\n",
    "favStarter = input(\"what's your favourite starter\")\n",
    "favMain = input(\"what's your favourite main course\")\n",
    "favDessert = input(\"what's your favourite Dessert\")\n",
    "favDrink = input(\"what's your favourite Drink\")\n",
    "\n",
    "#output their favourite meal \n",
    "print(\"Hi, your favourite food meal is \" + favStarter + \" , \" + favMain + \" , \" +favDessert + \" with a glass of \" + favDrink)"
   ]
  },
  {
   "cell_type": "code",
   "execution_count": null,
   "metadata": {},
   "outputs": [],
   "source": [
    "#TASK4 \n",
    "\n",
    "originalPrice= 2000\n",
    "#work out 10% of the original cost\n",
    "costDecrease= (originalPrice*10)/100 \n",
    "\n",
    "#decrease price until it falls below 900\n",
    "while originalPrice > 900:\n",
    "    originalPrice = originalPrice - costDecrease\n",
    "    print(originalPrice)\n",
    "\n",
    "#Q: how do i add the £ sign\n",
    "\n"
   ]
  },
  {
   "cell_type": "code",
   "execution_count": null,
   "metadata": {},
   "outputs": [],
   "source": [
    "#TASK5\n",
    "#ask user for 2 numbers\n",
    "no1= float(input(\"Please enter a number\"))\n",
    "no2= float(input(\"Please enter a second number\"))\n",
    "\n",
    "#select a calculation\n",
    "print(\"Please select an operator\\n\"\n",
    "    \"1. add \\n\"\n",
    "    \"2. subtract \\n\"\n",
    "    \"3. multiply \\n\"\n",
    "    \"4. divide) \\n\")\n",
    "selection= int(input(\"Enter selection 1, 2, 3 or 4: \"))\n",
    "\n",
    "if selection == 1:\n",
    "    print(no1, \" + \" ,no2, \" = \", (no1+no2))\n",
    "elif selection == 2:\n",
    "    print(no1, \" - \" ,no2, \" = \", (no1-no2))\n",
    "elif selection == 3:\n",
    "    print(no1, \" * \" ,no2, \" = \", (no1*no2))\n",
    "elif selection == 4:\n",
    "    print(no1, \" / \" ,no2, \" = \", (no1/no2))\n",
    "else:\n",
    "    print(\"Invalid input\")\n",
    "\n",
    "#Q:How do i make the selection numbers?"
   ]
  },
  {
   "cell_type": "code",
   "execution_count": null,
   "metadata": {},
   "outputs": [],
   "source": []
  }
 ]
}