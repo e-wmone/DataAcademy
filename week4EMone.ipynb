{
 "cells": [
  {
   "cell_type": "code",
   "execution_count": 2,
   "metadata": {},
   "outputs": [
    {
     "name": "stdout",
     "output_type": "stream",
     "text": [
      "[0 1 2 3 4 5 6 7 8 9]\n"
     ]
    }
   ],
   "source": [
    "# 1D array of numbers 0-9\n",
    "import numpy as np\n",
    "\n",
    "A=np.array([0,1,2,3,4,5,6,7,8,9])\n",
    "print(A)\n"
   ]
  },
  {
   "cell_type": "code",
   "execution_count": null,
   "metadata": {},
   "outputs": [],
   "source": [
    "#3x3 numpy array with truee boolean values\n",
    "\n",
    "#B= np.reshape(np.array([1,2,3,4,5,6,7,8,9]), (3,3))\n",
    "B= np.array([1,2,3,4,5,6,7,8,9]).reshape(3,3)\n",
    "trueValues= (B<10)\n",
    "print(trueValues)"
   ]
  },
  {
   "cell_type": "code",
   "execution_count": null,
   "metadata": {},
   "outputs": [],
   "source": [
    "#extract odd numbers from array of 1-10\n",
    "E= np.arange (1,11)\n",
    "#evenValues= (E%2 == 0) \n",
    "oddValues= (E%2 == 1) \n",
    "\n",
    "print(E[oddValues])"
   ]
  },
  {
   "cell_type": "code",
   "execution_count": null,
   "metadata": {},
   "outputs": [],
   "source": [
    "#replace all odd numbers in an array of 1-10 with the value -1\n",
    "E= np.arange (1,11)\n",
    "oddValues= (E%2 == 1) \n",
    "E[oddValues]= -1\n",
    "print(E[oddValues])"
   ]
  },
  {
   "cell_type": "code",
   "execution_count": null,
   "metadata": {},
   "outputs": [],
   "source": [
    "#convert a 1D array to a 2D array with 2 rows\n",
    "N= np.ones(10)\n",
    "newArray = N.reshape(2,5)\n",
    "print(newArray)"
   ]
  },
  {
   "cell_type": "code",
   "execution_count": 15,
   "metadata": {},
   "outputs": [
    {
     "name": "stdout",
     "output_type": "stream",
     "text": [
      "[603 648 693]\n"
     ]
    }
   ],
   "source": [
    "# calculate total of 2 arays using np.dot and np.sum\n",
    "\n",
    "a = np.arange(1,10).reshape(3,3)\n",
    "b = np.arange(10,19).reshape(3,3)\n",
    "c = np.dot(a, b)\n",
    "\n",
    "e = np.sum(c, axis = 0)\n",
    "\n",
    "print(e)"
   ]
  }
 ],
 "metadata": {
  "kernelspec": {
   "display_name": "Python 3.9.4 64-bit",
   "name": "python394jvsc74a57bd0aee8b7b246df8f9039afb4144a1f6fd8d2ca17a180786b69acc140d282b71a49"
  },
  "language_info": {
   "codemirror_mode": {
    "name": "ipython",
    "version": 3
   },
   "file_extension": ".py",
   "mimetype": "text/x-python",
   "name": "python",
   "nbconvert_exporter": "python",
   "pygments_lexer": "ipython3",
   "version": "3.9.4"
  },
  "metadata": {
   "interpreter": {
    "hash": "aee8b7b246df8f9039afb4144a1f6fd8d2ca17a180786b69acc140d282b71a49"
   }
  },
  "orig_nbformat": 2
 },
 "nbformat": 4,
 "nbformat_minor": 2
}