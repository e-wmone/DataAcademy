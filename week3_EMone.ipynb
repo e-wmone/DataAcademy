{
 "metadata": {
  "language_info": {
   "codemirror_mode": {
    "name": "ipython",
    "version": 3
   },
   "file_extension": ".py",
   "mimetype": "text/x-python",
   "name": "python",
   "nbconvert_exporter": "python",
   "pygments_lexer": "ipython3",
   "version": "3.9.4"
  },
  "orig_nbformat": 2,
  "kernelspec": {
   "name": "python394jvsc74a57bd0aee8b7b246df8f9039afb4144a1f6fd8d2ca17a180786b69acc140d282b71a49",
   "display_name": "Python 3.9.4 64-bit"
  },
  "metadata": {
   "interpreter": {
    "hash": "aee8b7b246df8f9039afb4144a1f6fd8d2ca17a180786b69acc140d282b71a49"
   }
  }
 },
 "nbformat": 4,
 "nbformat_minor": 2,
 "cells": [
  {
   "cell_type": "code",
   "execution_count": null,
   "metadata": {},
   "outputs": [],
   "source": [
    "\n",
    "#create list of numbers\n",
    "number_list= [4,45,83,21]\n",
    "\n",
    "#create file called numbers and write the list to it\n",
    "with open (\"numbers.txt\", \"w\") as myfile:\n",
    "    for number in number_list:\n",
    "        myfile.write(\"%i\\n\" % number)\n",
    "myfile.close()\n",
    "\n",
    "\n",
    "\n"
   ]
  },
  {
   "cell_type": "code",
   "execution_count": null,
   "metadata": {},
   "outputs": [],
   "source": [
    "with open(\"numbers.txt\", \"r\") as myfile:\n",
    "    numbers = myfile.read().replace('\\n', ',')\n",
    "\n",
    "myfile.close()\n",
    "\n",
    "print(numbers)"
   ]
  },
  {
   "cell_type": "code",
   "execution_count": null,
   "metadata": {},
   "outputs": [],
   "source": [
    "myfile = open(\"numbers.txt\", \"a\")\n",
    "\n",
    "myfile.write(\"50,60,70\")\n",
    "\n",
    "myfile.close()"
   ]
  },
  {
   "cell_type": "code",
   "execution_count": 26,
   "metadata": {},
   "outputs": [
    {
     "output_type": "execute_result",
     "data": {
      "text/plain": [
       "6"
      ]
     },
     "metadata": {},
     "execution_count": 26
    }
   ],
   "source": [
    "#TASK3\n",
    "def mark_grade(percentage, int_exam_grade):\n",
    "    #exam_grades= int (exam_grade)\n",
    "    if percentage <= 20:\n",
    "        exam_grade = 2\n",
    "    elif percentage >20 and percentage <= 30:\n",
    "        exam_grade = 3 \n",
    "    elif percentage >30 and percentage <= 40:\n",
    "        exam_grade = 4\n",
    "    elif percentage >40 and percentage <= 50:\n",
    "        exam_grade = 5\n",
    "    elif percentage > 50 and percentage <= 60:\n",
    "        exam_grade = 6\n",
    "    elif percentage >60 and percentage <= 70:\n",
    "        exam_grade = 7\n",
    "    elif percentage > 70 and percentage <= 80 :\n",
    "        exam_grade = 8\n",
    "    elif percentage > 80:\n",
    "        exam_grade = 9\n",
    "        #print(\"You have achieved a grade 9.\")\n",
    "    else:\n",
    "        print(\"Please review your percentage mark.\")\n",
    "    return exam_grade\n",
    "mark_grade(percentage, int_exam_grade)"
   ]
  },
  {
   "cell_type": "code",
   "execution_count": 27,
   "metadata": {},
   "outputs": [
    {
     "output_type": "error",
     "ename": "TypeError",
     "evalue": "'>' not supported between instances of 'int' and 'NoneType'",
     "traceback": [
      "\u001b[0;31m---------------------------------------------------------------------------\u001b[0m",
      "\u001b[0;31mTypeError\u001b[0m                                 Traceback (most recent call last)",
      "\u001b[0;32m<ipython-input-27-790d9f43df55>\u001b[0m in \u001b[0;36m<module>\u001b[0;34m\u001b[0m\n\u001b[1;32m      5\u001b[0m \u001b[0;32mif\u001b[0m \u001b[0mtarget_grade\u001b[0m \u001b[0;34m==\u001b[0m \u001b[0mexam_grade\u001b[0m\u001b[0;34m:\u001b[0m\u001b[0;34m\u001b[0m\u001b[0;34m\u001b[0m\u001b[0m\n\u001b[1;32m      6\u001b[0m     \u001b[0mprint\u001b[0m\u001b[0;34m(\u001b[0m\u001b[0;34m\"Your target matches your grade!\"\u001b[0m\u001b[0;34m)\u001b[0m\u001b[0;34m\u001b[0m\u001b[0;34m\u001b[0m\u001b[0m\n\u001b[0;32m----> 7\u001b[0;31m \u001b[0;32melif\u001b[0m \u001b[0mtarget_grade\u001b[0m \u001b[0;34m>\u001b[0m \u001b[0mexam_grade\u001b[0m\u001b[0;34m:\u001b[0m\u001b[0;34m\u001b[0m\u001b[0;34m\u001b[0m\u001b[0m\n\u001b[0m\u001b[1;32m      8\u001b[0m     \u001b[0mprint\u001b[0m\u001b[0;34m(\u001b[0m\u001b[0;34m\"Aim a little higher next time.\"\u001b[0m\u001b[0;34m)\u001b[0m\u001b[0;34m\u001b[0m\u001b[0;34m\u001b[0m\u001b[0m\n\u001b[1;32m      9\u001b[0m \u001b[0;32melif\u001b[0m \u001b[0mtarget_grade\u001b[0m \u001b[0;34m<\u001b[0m \u001b[0mexam_grade\u001b[0m\u001b[0;34m:\u001b[0m\u001b[0;34m\u001b[0m\u001b[0;34m\u001b[0m\u001b[0m\n",
      "\u001b[0;31mTypeError\u001b[0m: '>' not supported between instances of 'int' and 'NoneType'"
     ]
    }
   ],
   "source": [
    "\n",
    "percentage = int(input(\"Please enter your current percentage mark:\"))\n",
    "target_grade = int(input(\"Please enter your target grade between 1-9:\"))\n",
    "mark_grade(percentage,exam_grade)\n",
    "\n",
    "if target_grade == exam_grade:\n",
    "    print(\"Your target matches your grade!\")\n",
    "elif target_grade > exam_grade:\n",
    "    print(\"Aim a little higher next time.\")\n",
    "elif target_grade < exam_grade:\n",
    "    print(\"Great job, you have exceeded your target.\")  \n",
    "else :\n",
    "    print(\"Invalid input\")"
   ]
  },
  {
   "cell_type": "code",
   "execution_count": null,
   "metadata": {},
   "outputs": [],
   "source": []
  }
 ]
}